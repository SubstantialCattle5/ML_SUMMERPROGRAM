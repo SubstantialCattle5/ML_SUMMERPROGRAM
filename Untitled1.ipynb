{
  "nbformat": 4,
  "nbformat_minor": 0,
  "metadata": {
    "colab": {
      "name": "Untitled1.ipynb",
      "provenance": [],
      "collapsed_sections": [],
      "toc_visible": true,
      "authorship_tag": "ABX9TyNWY5j/bQJGOIooTMF+T8Db",
      "include_colab_link": true
    },
    "kernelspec": {
      "name": "python3",
      "display_name": "Python 3"
    },
    "language_info": {
      "name": "python"
    }
  },
  "cells": [
    {
      "cell_type": "markdown",
      "metadata": {
        "id": "view-in-github",
        "colab_type": "text"
      },
      "source": [
        "<a href=\"https://colab.research.google.com/github/SubstantialCattle5/ML_SUMMERPROGRAM/blob/main/Untitled1.ipynb\" target=\"_parent\"><img src=\"https://colab.research.google.com/assets/colab-badge.svg\" alt=\"Open In Colab\"/></a>"
      ]
    },
    {
      "cell_type": "markdown",
      "source": [
        "## Import TensorFlow and other libraries\n"
      ],
      "metadata": {
        "id": "I9T-0nlc1TRS"
      }
    },
    {
      "cell_type": "code",
      "source": [
        "import matplotlib.pyplot as plt\n",
        "import numpy as np\n",
        "import os\n",
        "import PIL\n",
        "import tensorflow as tf\n",
        "\n",
        "from tensorflow import keras\n",
        "from tensorflow.keras import layers\n",
        "from tensorflow.keras.models import Sequential"
      ],
      "metadata": {
        "id": "G1blv2JX1TFP"
      },
      "execution_count": null,
      "outputs": []
    },
    {
      "cell_type": "markdown",
      "source": [
        "## Importing Dataset\n",
        "\n"
      ],
      "metadata": {
        "id": "twB3uAYC1S1w"
      }
    },
    {
      "cell_type": "code",
      "execution_count": null,
      "metadata": {
        "id": "57CcilYSG0zv"
      },
      "outputs": [],
      "source": [
        "import pathlib\n",
        "dataset_url = \"https://storage.googleapis.com/download.tensorflow.org/example_images/flower_photos.tgz\"\n",
        "data_dir = tf.keras.utils.get_file('flower_photos', origin=dataset_url, untar=True)\n",
        "data_dir = pathlib.Path(data_dir)"
      ]
    },
    {
      "cell_type": "markdown",
      "source": [
        "Number of Images"
      ],
      "metadata": {
        "id": "9RlNTCtN1pi0"
      }
    },
    {
      "cell_type": "code",
      "source": [
        "image_count = len(list(data_dir.glob('*/*.jpg')))\n",
        "print(image_count)\n"
      ],
      "metadata": {
        "colab": {
          "base_uri": "https://localhost:8080/"
        },
        "id": "tMHunNAv2FNy",
        "outputId": "76713a91-a248-4775-9b4d-10d370a6128b"
      },
      "execution_count": null,
      "outputs": [
        {
          "output_type": "stream",
          "name": "stdout",
          "text": [
            "3670\n"
          ]
        }
      ]
    },
    {
      "cell_type": "markdown",
      "source": [
        "Parameters "
      ],
      "metadata": {
        "id": "QLhkS0Yj2HTV"
      }
    },
    {
      "cell_type": "code",
      "source": [
        "batch_size = 32\n",
        "img_height = 180\n",
        "img_width = 180\n"
      ],
      "metadata": {
        "id": "wtK4Q1eN2Dc9"
      },
      "execution_count": null,
      "outputs": []
    },
    {
      "cell_type": "markdown",
      "source": [
        "## Splitting the Data"
      ],
      "metadata": {
        "id": "8hp3Y4kM2cXU"
      }
    },
    {
      "cell_type": "code",
      "source": [
        "train_ds = tf.keras.utils.image_dataset_from_directory(\n",
        "  data_dir,\n",
        "  validation_split=0.2,\n",
        "  subset=\"training\",\n",
        "  seed=123,\n",
        "  image_size=(img_height, img_width),\n",
        "  batch_size=batch_size)\n",
        "\n",
        "print() \n",
        "\n",
        "val_ds = tf.keras.utils.image_dataset_from_directory(\n",
        "  data_dir,\n",
        "  validation_split=0.2,\n",
        "  subset=\"validation\",\n",
        "  seed=123,\n",
        "  image_size=(img_height, img_width),\n",
        "  batch_size=batch_size)\n"
      ],
      "metadata": {
        "colab": {
          "base_uri": "https://localhost:8080/"
        },
        "id": "55uLi1e_2cJ4",
        "outputId": "ffc65ef8-f267-4ec3-ff92-0a8e187da002"
      },
      "execution_count": null,
      "outputs": [
        {
          "output_type": "stream",
          "name": "stdout",
          "text": [
            "Found 3670 files belonging to 5 classes.\n",
            "Using 2936 files for training.\n",
            "\n",
            "Found 3670 files belonging to 5 classes.\n",
            "Using 734 files for validation.\n"
          ]
        }
      ]
    },
    {
      "cell_type": "code",
      "source": [
        "class_names = train_ds.class_names\n",
        "class_names"
      ],
      "metadata": {
        "colab": {
          "base_uri": "https://localhost:8080/"
        },
        "id": "g0-lL8OP7wrG",
        "outputId": "f8807624-7a57-42f8-c82b-7e0e1170592d"
      },
      "execution_count": null,
      "outputs": [
        {
          "output_type": "execute_result",
          "data": {
            "text/plain": [
              "['daisy', 'dandelion', 'roses', 'sunflowers', 'tulips']"
            ]
          },
          "metadata": {},
          "execution_count": 45
        }
      ]
    },
    {
      "cell_type": "code",
      "source": [
        "for image_batch, labels_batch in train_ds:\n",
        "  print(image_batch.shape)\n",
        "  print(labels_batch.shape)\n",
        "  break \n"
      ],
      "metadata": {
        "colab": {
          "base_uri": "https://localhost:8080/"
        },
        "id": "m9_3vOyn2q30",
        "outputId": "6c9195a1-8414-42af-ae5d-7d54d13d133f"
      },
      "execution_count": null,
      "outputs": [
        {
          "output_type": "stream",
          "name": "stdout",
          "text": [
            "(32, 180, 180, 3)\n",
            "(32,)\n"
          ]
        }
      ]
    },
    {
      "cell_type": "markdown",
      "source": [
        "##Data Prefetch \n",
        "Overlaps data preprocessing and model execution while training"
      ],
      "metadata": {
        "id": "uceRDipq3Quo"
      }
    },
    {
      "cell_type": "code",
      "source": [
        "AUTOTUNE = tf.data.AUTOTUNE\n",
        "\n",
        "train_ds = train_ds.cache().shuffle(1000).prefetch(buffer_size=AUTOTUNE)\n",
        "val_ds = val_ds.cache().prefetch(buffer_size=AUTOTUNE)\n"
      ],
      "metadata": {
        "id": "_sLvxEAr3t74"
      },
      "execution_count": null,
      "outputs": []
    },
    {
      "cell_type": "markdown",
      "source": [
        "## Data Augmentation \n",
        "https://www.tensorflow.org/tutorials/images/data_augmentation"
      ],
      "metadata": {
        "id": "KKXfQzOe5HKG"
      }
    },
    {
      "cell_type": "code",
      "source": [
        "data_augmentation = keras.Sequential(\n",
        "  [\n",
        "    layers.RandomFlip(\"horizontal\",\n",
        "                      input_shape=(img_height,\n",
        "                                  img_width,\n",
        "                                  3)),\n",
        "    layers.RandomRotation(0.1),\n",
        "    layers.RandomZoom(0.1),\n",
        "  ]\n",
        ")\n",
        "\n",
        "num_classes = len(class_names)\n",
        "\n"
      ],
      "metadata": {
        "id": "FjLGCMrE5OMb"
      },
      "execution_count": null,
      "outputs": []
    },
    {
      "cell_type": "markdown",
      "source": [
        "## Training the model \n",
        "\n",
        "Using dropout to mitigate overfitting : https://www.tensorflow.org/tutorials/keras/overfit_and_underfit"
      ],
      "metadata": {
        "id": "vnbGvcOv4Pb-"
      }
    },
    {
      "cell_type": "code",
      "source": [
        "model = Sequential([\n",
        "  data_augmentation,\n",
        "  layers.Rescaling(1./255),\n",
        "  layers.Conv2D(16, 3, padding='same', activation='relu'),\n",
        "  layers.MaxPooling2D(),\n",
        "  layers.Conv2D(32, 3, padding='same', activation='relu'),\n",
        "  layers.MaxPooling2D(),\n",
        "  layers.Conv2D(64, 3, padding='same', activation='relu'),\n",
        "  layers.MaxPooling2D(),\n",
        "  layers.Dropout(0.2),\n",
        "  layers.Flatten(),\n",
        "  layers.Dense(128, activation='relu'),\n",
        "  layers.Dense(num_classes)\n",
        "])\n"
      ],
      "metadata": {
        "id": "crcRqdgS4s0q"
      },
      "execution_count": null,
      "outputs": []
    },
    {
      "cell_type": "markdown",
      "source": [
        "## Compiling the Trained Model"
      ],
      "metadata": {
        "id": "BuMVZYSj56wS"
      }
    },
    {
      "cell_type": "code",
      "source": [
        "model.compile(optimizer='adam',\n",
        "              loss=tf.keras.losses.SparseCategoricalCrossentropy(from_logits=True),\n",
        "              metrics=['accuracy'])\n"
      ],
      "metadata": {
        "id": "ddJaIaEO59iS"
      },
      "execution_count": null,
      "outputs": []
    },
    {
      "cell_type": "code",
      "source": [
        "model.summary() "
      ],
      "metadata": {
        "colab": {
          "base_uri": "https://localhost:8080/"
        },
        "id": "aQXIGKPU6Bkf",
        "outputId": "30203019-d7ee-4b36-d1c8-d28a1303da4a"
      },
      "execution_count": null,
      "outputs": [
        {
          "output_type": "stream",
          "name": "stdout",
          "text": [
            "Model: \"sequential_3\"\n",
            "_________________________________________________________________\n",
            " Layer (type)                Output Shape              Param #   \n",
            "=================================================================\n",
            " sequential_2 (Sequential)   (None, 180, 180, 3)       0         \n",
            "                                                                 \n",
            " rescaling (Rescaling)       (None, 180, 180, 3)       0         \n",
            "                                                                 \n",
            " conv2d (Conv2D)             (None, 180, 180, 16)      448       \n",
            "                                                                 \n",
            " max_pooling2d (MaxPooling2D  (None, 90, 90, 16)       0         \n",
            " )                                                               \n",
            "                                                                 \n",
            " conv2d_1 (Conv2D)           (None, 90, 90, 32)        4640      \n",
            "                                                                 \n",
            " max_pooling2d_1 (MaxPooling  (None, 45, 45, 32)       0         \n",
            " 2D)                                                             \n",
            "                                                                 \n",
            " conv2d_2 (Conv2D)           (None, 45, 45, 64)        18496     \n",
            "                                                                 \n",
            " max_pooling2d_2 (MaxPooling  (None, 22, 22, 64)       0         \n",
            " 2D)                                                             \n",
            "                                                                 \n",
            " dropout (Dropout)           (None, 22, 22, 64)        0         \n",
            "                                                                 \n",
            " flatten (Flatten)           (None, 30976)             0         \n",
            "                                                                 \n",
            " dense (Dense)               (None, 128)               3965056   \n",
            "                                                                 \n",
            " dense_1 (Dense)             (None, 5)                 645       \n",
            "                                                                 \n",
            "=================================================================\n",
            "Total params: 3,989,285\n",
            "Trainable params: 3,989,285\n",
            "Non-trainable params: 0\n",
            "_________________________________________________________________\n"
          ]
        }
      ]
    },
    {
      "cell_type": "markdown",
      "source": [
        ""
      ],
      "metadata": {
        "id": "VqJvV0KR8PVm"
      }
    },
    {
      "cell_type": "code",
      "source": [
        "epochs = 15\n",
        "history = model.fit(\n",
        "  train_ds,\n",
        "  validation_data=val_ds,\n",
        "  epochs=epochs\n",
        ")\n"
      ],
      "metadata": {
        "colab": {
          "base_uri": "https://localhost:8080/"
        },
        "id": "DwYJZHO76Hnb",
        "outputId": "9702ade7-3fb3-4043-9972-240a0e7e506c"
      },
      "execution_count": null,
      "outputs": [
        {
          "output_type": "stream",
          "name": "stdout",
          "text": [
            "Epoch 1/15\n",
            "92/92 [==============================] - 115s 1s/step - loss: 1.4160 - accuracy: 0.3896 - val_loss: 1.1180 - val_accuracy: 0.5477\n",
            "Epoch 2/15\n",
            "92/92 [==============================] - 108s 1s/step - loss: 1.0595 - accuracy: 0.5831 - val_loss: 1.0996 - val_accuracy: 0.5790\n",
            "Epoch 3/15\n",
            "92/92 [==============================] - 125s 1s/step - loss: 0.9746 - accuracy: 0.6093 - val_loss: 0.9390 - val_accuracy: 0.6403\n",
            "Epoch 4/15\n",
            "92/92 [==============================] - 117s 1s/step - loss: 0.9128 - accuracy: 0.6495 - val_loss: 0.9098 - val_accuracy: 0.6431\n",
            "Epoch 5/15\n",
            "92/92 [==============================] - 108s 1s/step - loss: 0.8738 - accuracy: 0.6720 - val_loss: 0.9399 - val_accuracy: 0.6267\n",
            "Epoch 6/15\n",
            "92/92 [==============================] - 107s 1s/step - loss: 0.8326 - accuracy: 0.6826 - val_loss: 0.8706 - val_accuracy: 0.6757\n",
            "Epoch 7/15\n",
            "92/92 [==============================] - 107s 1s/step - loss: 0.7869 - accuracy: 0.6880 - val_loss: 0.8503 - val_accuracy: 0.6512\n",
            "Epoch 8/15\n",
            "92/92 [==============================] - 106s 1s/step - loss: 0.7608 - accuracy: 0.7047 - val_loss: 0.8159 - val_accuracy: 0.6717\n",
            "Epoch 9/15\n",
            "92/92 [==============================] - 106s 1s/step - loss: 0.7263 - accuracy: 0.7207 - val_loss: 0.8610 - val_accuracy: 0.6812\n",
            "Epoch 10/15\n",
            "92/92 [==============================] - 107s 1s/step - loss: 0.6929 - accuracy: 0.7333 - val_loss: 0.8078 - val_accuracy: 0.6894\n",
            "Epoch 11/15\n",
            "92/92 [==============================] - 107s 1s/step - loss: 0.6651 - accuracy: 0.7514 - val_loss: 0.7831 - val_accuracy: 0.6962\n",
            "Epoch 12/15\n",
            "92/92 [==============================] - 107s 1s/step - loss: 0.6318 - accuracy: 0.7653 - val_loss: 0.7783 - val_accuracy: 0.6880\n",
            "Epoch 13/15\n",
            "92/92 [==============================] - 106s 1s/step - loss: 0.6083 - accuracy: 0.7653 - val_loss: 0.7726 - val_accuracy: 0.6907\n",
            "Epoch 14/15\n",
            "92/92 [==============================] - 106s 1s/step - loss: 0.5765 - accuracy: 0.7851 - val_loss: 0.7942 - val_accuracy: 0.6962\n",
            "Epoch 15/15\n",
            "92/92 [==============================] - 106s 1s/step - loss: 0.5567 - accuracy: 0.7899 - val_loss: 0.8038 - val_accuracy: 0.7030\n"
          ]
        }
      ]
    },
    {
      "cell_type": "markdown",
      "source": [
        ""
      ],
      "metadata": {
        "id": "0D6JeR9E8z-C"
      }
    },
    {
      "cell_type": "markdown",
      "source": [
        "# Visualizing"
      ],
      "metadata": {
        "id": "lBmhW_md9PJj"
      }
    },
    {
      "cell_type": "code",
      "source": [
        "acc = history.history['accuracy']\n",
        "val_acc = history.history['val_accuracy']\n",
        "\n",
        "loss = history.history['loss']\n",
        "val_loss = history.history['val_loss']\n",
        "\n",
        "epochs_range = range(epochs)\n",
        "\n",
        "plt.figure(figsize=(8, 8))\n",
        "plt.subplot(1, 2, 1)\n",
        "plt.plot(epochs_range, acc, label='Training Accuracy')\n",
        "plt.plot(epochs_range, val_acc, label='Validation Accuracy')\n",
        "plt.legend(loc='lower right')\n",
        "plt.title('Training and Validation Accuracy')\n",
        "\n",
        "plt.subplot(1, 2, 2)\n",
        "plt.plot(epochs_range, loss, label='Training Loss')\n",
        "plt.plot(epochs_range, val_loss, label='Validation Loss')\n",
        "plt.legend(loc='upper right')\n",
        "plt.title('Training and Validation Loss')\n",
        "plt.show()\n"
      ],
      "metadata": {
        "colab": {
          "base_uri": "https://localhost:8080/",
          "height": 499
        },
        "id": "rQh1edwH9Oqt",
        "outputId": "a9ff63e9-c297-47bf-f385-f1eeb3bb0709"
      },
      "execution_count": null,
      "outputs": [
        {
          "output_type": "display_data",
          "data": {
            "text/plain": [
              "<Figure size 576x576 with 2 Axes>"
            ],
            "image/png": "[encoded data removed]"
          },
          "metadata": {
            "needs_background": "light"
          }
        }
      ]
    },
    {
      "cell_type": "markdown",
      "source": [
        "## Predicting on the new data"
      ],
      "metadata": {
        "id": "vrcxcBMM9VpM"
      }
    },
    {
      "cell_type": "code",
      "source": [
        "sunflower_url = \"https://www.pbs.org/wgbh/nova/media/images/shutterstock_617488823.width-2500.jpg\"\n",
        "sunflower_path = tf.keras.utils.get_file('tulips', origin=sunflower_url)\n",
        "\n",
        "img = tf.keras.utils.load_img(\n",
        "    sunflower_path, target_size=(img_height, img_width)\n",
        ")\n",
        "img_array = tf.keras.utils.img_to_array(img)\n",
        "img_array = tf.expand_dims(img_array, 0) # Create a batch\n",
        "\n",
        "predictions = model.predict(img_array)\n",
        "score = tf.nn.softmax(predictions[0])\n",
        "\n",
        "print(\n",
        "    \"This image most likely belongs to {} with a {:.2f} percent confidence.\"\n",
        "    .format(class_names[np.argmax(score)], 100 * np.max(score))\n",
        ")\n"
      ],
      "metadata": {
        "colab": {
          "base_uri": "https://localhost:8080/"
        },
        "id": "3OHoUsIs9Y2e",
        "outputId": "d0edcc7d-050a-4d3b-a9e0-c790c7b6a793"
      },
      "execution_count": null,
      "outputs": [
        {
          "output_type": "stream",
          "name": "stdout",
          "text": [
            "Downloading data from https://www.pbs.org/wgbh/nova/media/images/shutterstock_617488823.width-2500.jpg\n",
            "335872/329198 [==============================] - 0s 0us/step\n",
            "344064/329198 [===============================] - 0s 0us/step\n",
            "This image most likely belongs to daisy with a 55.23 percent confidence.\n"
          ]
        }
      ]
    },
    {
      "cell_type": "markdown",
      "source": [
        ""
      ],
      "metadata": {
        "id": "rSWnnfqG9VjH"
      }
    }
  ]
}